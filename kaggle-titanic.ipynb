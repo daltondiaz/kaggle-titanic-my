{
 "cells": [
  {
   "cell_type": "markdown",
   "metadata": {},
   "source": [
    "# Resolvendo Kaggle Titanic"
   ]
  },
  {
   "cell_type": "markdown",
   "metadata": {},
   "source": [
    "Este tutorial é para iniciantes e será divido em alguma partes\n",
    "\n",
    "- Exploração de Análise de Dados (Exploratory Data Analysis - EDA) com visualização\n",
    "- Extração de Características (Feature Extract)\n",
    "- Modelagem de Dados (Data Modeling)\n",
    "- Model Evaluate\n",
    "\n",
    "Talvez nem todos os termos sejam traduzidos para o português, porque há muito conteúdo bom inglês (essas palavras estarão em itálico) então espero que sirva de inspiração para se aprofundar um pouco mais nessa lingua, porém, vou me esforçar ao máximo para deixar todos os seus significados ou mesmo um link com mais detalhes.\n",
    "\n",
    "Link do desafio no Kaggle, [Titanic](https://www.kaggle.com/c/titanic)\n",
    "\n",
    "### Objetivo\n",
    "\n",
    "O objetivo desse desafio é prever utilizando modelos de *machine learning* quem sobreviveria, para isso foi disponibilizado dois *datasets* que estão dentro da pasta titanic, o primeiro é **train.csv** que possui os dados dos sobreviventes(sim ou não) e suas características. O **test.csv** são os mesmos dados com suas caracterísicas, mas sem os sobreviventos onde no fim vamos usa-los para prever se sobreviveriam ou não."
   ]
  },
  {
   "cell_type": "markdown",
   "metadata": {},
   "source": [
    "### Importação das bibliotecas"
   ]
  },
  {
   "cell_type": "code",
   "execution_count": 1,
   "metadata": {},
   "outputs": [],
   "source": [
    "import pandas as pd\n",
    "import numpy as np\n",
    "import matplotlib.pyplot as plt\n",
    "%matplotlib inline\n",
    "import seaborn as sns\n",
    "sns.set() # setting seaborn default for plots\n"
   ]
  },
  {
   "cell_type": "markdown",
   "metadata": {},
   "source": [
    "### Carregando conjunto de dados"
   ]
  },
  {
   "cell_type": "code",
   "execution_count": 5,
   "metadata": {},
   "outputs": [],
   "source": [
    "train = pd.read_csv('titanic/train.csv')\n",
    "test = pd.read_csv('titanic/test.csv')"
   ]
  },
  {
   "cell_type": "code",
   "execution_count": null,
   "metadata": {},
   "outputs": [],
   "source": []
  }
 ],
 "metadata": {
  "kernelspec": {
   "display_name": "Python 3",
   "language": "python",
   "name": "python3"
  },
  "language_info": {
   "codemirror_mode": {
    "name": "ipython",
    "version": 3
   },
   "file_extension": ".py",
   "mimetype": "text/x-python",
   "name": "python",
   "nbconvert_exporter": "python",
   "pygments_lexer": "ipython3",
   "version": "3.7.0"
  }
 },
 "nbformat": 4,
 "nbformat_minor": 2
}
